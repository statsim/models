{
 "cells": [
  {
   "cell_type": "code",
   "execution_count": 1,
   "metadata": {
    "scrolled": true
   },
   "outputs": [
    {
     "data": {
      "text/html": [
       "\n",
       "  <div class=\"iframer-wrapper\" style=\"position: relative; padding-bottom: 550px; padding-top: 25px; height: 0;\">\n",
       "    <iframe src=\"https://statsim.com/app/?m=conversion-rate&preview=1\" style=\"position: absolute; top: 0; left: 0; width: 100%; height: 100%;\"></iframe>\n",
       "  </div><br>\n",
       "  <a class=\"iframer-link\" href=\"https://statsim.com/app/?m=conversion-rate&preview=1\" target=\"_blank\" style=\"margin: 10px 0;\">Open in statsim.com</a>\n",
       "  "
      ],
      "text/plain": [
       "<IPython.core.display.HTML object>"
      ]
     },
     "metadata": {},
     "output_type": "display_data"
    }
   ],
   "source": [
    "from iframer import *\n",
    "iframer('https://statsim.com/app/?m=conversion-rate&preview=1')"
   ]
  },
  {
   "cell_type": "markdown",
   "metadata": {},
   "source": [
    "What is Conversion Rate?\n",
    "---\n",
    "Conversion rate measures how many users complete a desired goal (a conversion) compared to the total number of users. It's usually calculated as a fraction $n/N$ where $n$ is number of conversions and $N$ - total number of visitors. The output of such model is deterministic and shows only what it calculates - the proportion of visitors during specific period. On the contrary, a probabilistic model encorporates uncertainty about true conversion rate."
   ]
  },
  {
   "cell_type": "markdown",
   "metadata": {},
   "source": [
    "Model\n",
    "---\n",
    "$$\n",
    "\\begin{align}\n",
    "Rate \\sim \\text{Uniform(0,1)} \\\\\n",
    "Conversions \\sim \\text{Binomial(Rate, N)} \\\\\n",
    "p(Rate|Conversions, N) \\varpropto p(Conversions|Rate, N) p(Rate) \\\\\n",
    "\\end{align}\n",
    "$$\n",
    "\n",
    "Model contains an uninformative uniform prior and a binomial distribution to evaluate log-likelihood of provided data (Number of trials, Conversions)"
   ]
  },
  {
   "cell_type": "code",
   "execution_count": null,
   "metadata": {},
   "outputs": [],
   "source": []
  }
 ],
 "metadata": {
  "kernelspec": {
   "display_name": "Python 3",
   "language": "python",
   "name": "python3"
  },
  "language_info": {
   "codemirror_mode": {
    "name": "ipython",
    "version": 3
   },
   "file_extension": ".py",
   "mimetype": "text/x-python",
   "name": "python",
   "nbconvert_exporter": "python",
   "pygments_lexer": "ipython3",
   "version": "3.5.2"
  }
 },
 "nbformat": 4,
 "nbformat_minor": 2
}
