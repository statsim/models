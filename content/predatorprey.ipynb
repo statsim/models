{
 "cells": [
  {
   "cell_type": "markdown",
   "metadata": {},
   "source": [
    "Introduction\n",
    "---\n",
    "Lotka-Volterra equations are used in simplest cases when there's only one predator population and one prey population. The model was developed in the beginning of 20<sup>th</sup> century by Alfred Lotka and Vito Volterra (independently). [https://en.wikipedia.org/wiki/Lotka-Volterra_equations](https://en.wikipedia.org/wiki/Lotka%E2%80%93Volterra_equations)"
   ]
  },
  {
   "cell_type": "markdown",
   "metadata": {},
   "source": [
    "Assumptions\n",
    "---\n",
    "* exponential growth of the prey population when the predator is absent\n",
    "* the predator population will starve if the prey population is 0\n",
    "* predators can consume infinite amount of prey\n",
    "* environment is simple (both populations are moving randomly through a homogeneous environment)"
   ]
  },
  {
   "cell_type": "markdown",
   "metadata": {},
   "source": [
    "Model\n",
    "---\n",
    "Instead of using formulas to get the final value the model simulates all time steps to get historical data.   "
   ]
  },
  {
   "cell_type": "code",
   "execution_count": 1,
   "metadata": {},
   "outputs": [
    {
     "data": {
      "text/html": [
       "\n",
       "  <div class=\"iframer-wrapper\" style=\"position: relative; padding-bottom: 550px; padding-top: 25px; height: 0;\">\n",
       "    <iframe src=\"https://statsim.com/app/?m=predatorprey&preview=1\" style=\"position: absolute; top: 0; left: 0; width: 100%; height: 100%;\"></iframe>\n",
       "  </div><br>\n",
       "  <a class=\"iframer-link\" href=\"https://statsim.com/app/?m=predatorprey&preview=1\" target=\"_blank\" style=\"margin: 10px 0;\">Open in statsim.com</a>\n",
       "  "
      ],
      "text/plain": [
       "<IPython.core.display.HTML object>"
      ]
     },
     "metadata": {},
     "output_type": "display_data"
    }
   ],
   "source": [
    "from iframer import *\n",
    "iframer('https://statsim.com/app/?m=predatorprey&preview=1')"
   ]
  }
 ],
 "metadata": {
  "kernelspec": {
   "display_name": "Python 3",
   "language": "python",
   "name": "python3"
  },
  "language_info": {
   "codemirror_mode": {
    "name": "ipython",
    "version": 3
   },
   "file_extension": ".py",
   "mimetype": "text/x-python",
   "name": "python",
   "nbconvert_exporter": "python",
   "pygments_lexer": "ipython3",
   "version": "3.7.4"
  }
 },
 "nbformat": 4,
 "nbformat_minor": 2
}
