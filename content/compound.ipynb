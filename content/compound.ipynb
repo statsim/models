{
 "cells": [
  {
   "cell_type": "code",
   "execution_count": 3,
   "metadata": {},
   "outputs": [],
   "source": [
    "from open import *"
   ]
  },
  {
   "cell_type": "markdown",
   "metadata": {},
   "source": [
    "What is Compound Interest?\n",
    "---\n",
    "Compound interest is a special type of loan, deposit or a saving account. After each compound period the interest is reinvested rather than paid. Compound interest of each period is based on both principal and reinvested interests from previous periods. Basically it's \"interest on interest\" [https://en.wikipedia.org/wiki/Compound_interest](https://en.wikipedia.org/wiki/Compound_interest)"
   ]
  },
  {
   "cell_type": "markdown",
   "metadata": {},
   "source": [
    "Model\n",
    "---\n",
    "Instead of using formulas to get the final value the model simulates all time steps to get historical data.   "
   ]
  },
  {
   "cell_type": "code",
   "execution_count": 4,
   "metadata": {},
   "outputs": [
    {
     "data": {
      "text/html": [
       "\n",
       "  <div style=\"position: relative; padding-bottom: 550px; padding-top: 25px; height: 0;\">\n",
       "    <iframe src=\"https://statsim.com/app/?m=compound&preview=1\" style=\"position: absolute; top: 0; left: 0; width: 100%; height: 100%;\"></iframe>\n",
       "  </div><br>\n",
       "  <a href=\"https://statsim.com/app/?m=compound&preview=1\" style=\"margin: 10px 0\">Open in StatSim</a>\n",
       "  "
      ],
      "text/plain": [
       "<IPython.core.display.HTML object>"
      ]
     },
     "metadata": {},
     "output_type": "display_data"
    }
   ],
   "source": [
    "open('https://statsim.com/app/?m=compound&preview=1')"
   ]
  },
  {
   "cell_type": "code",
   "execution_count": null,
   "metadata": {},
   "outputs": [],
   "source": []
  }
 ],
 "metadata": {
  "kernelspec": {
   "display_name": "Python 3",
   "language": "python",
   "name": "python3"
  },
  "language_info": {
   "codemirror_mode": {
    "name": "ipython",
    "version": 3
   },
   "file_extension": ".py",
   "mimetype": "text/x-python",
   "name": "python",
   "nbconvert_exporter": "python",
   "pygments_lexer": "ipython3",
   "version": "3.5.2"
  }
 },
 "nbformat": 4,
 "nbformat_minor": 2
}
