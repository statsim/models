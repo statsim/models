{
 "cells": [
  {
   "cell_type": "code",
   "execution_count": 1,
   "metadata": {},
   "outputs": [
    {
     "data": {
      "text/html": [
       "\n",
       "  <div class=\"iframer-wrapper\" style=\"position: relative; padding-bottom: 550px; padding-top: 25px; height: 0;\">\n",
       "    <iframe src=\"https://statsim.com/app/?m=abtest&preview=1\" style=\"position: absolute; top: 0; left: 0; width: 100%; height: 100%;\"></iframe>\n",
       "  </div><br>\n",
       "  <a class=\"iframer-link\" href=\"https://statsim.com/app/?m=abtest&preview=1\" target=\"_blank\" style=\"margin: 10px 0;\">Open in statsim.com</a>\n",
       "  "
      ],
      "text/plain": [
       "<IPython.core.display.HTML object>"
      ]
     },
     "metadata": {},
     "output_type": "display_data"
    }
   ],
   "source": [
    "from iframer import *\n",
    "iframer('https://statsim.com/app/?m=abtest&preview=1')"
   ]
  },
  {
   "cell_type": "markdown",
   "metadata": {},
   "source": [
    "Model\n",
    "---\n",
    "The main point of A/B tests is to find how one version is better than another. The most intuitive approach is to find conversion rates for each version, then compare them. We are not really interested in conversion rates, but their difference. The output of the model is approximation of the random variable $Diff = Rate_B - Rate_A$. If we know it's distribution and cumulative distribution function we can find probability $P(Rate_B < Rate_A)$ or equivalently $P(Rate_B - Rate_A < 0) = P(Diff < 0) = CDF_{Diff}(0)$\n",
    "\n",
    "$$\n",
    "\\begin{align}\n",
    "Rate_A \\sim \\text{Uniform}(0,1) \\\\\n",
    "Rate_B \\sim \\text{Uniform}(0,1) \\\\\n",
    "Conversions_A \\sim \\text{Binomial}(Rate_A, N_A) \\\\\n",
    "Conversions_B \\sim \\text{Binomial}(Rate_B, N_B) \\\\\n",
    "Diff = Rate_B - Rate_A\n",
    "\\end{align}\n",
    "$$"
   ]
  }
 ],
 "metadata": {
  "kernelspec": {
   "display_name": "Python 3",
   "language": "python",
   "name": "python3"
  },
  "language_info": {
   "codemirror_mode": {
    "name": "ipython",
    "version": 3
   },
   "file_extension": ".py",
   "mimetype": "text/x-python",
   "name": "python",
   "nbconvert_exporter": "python",
   "pygments_lexer": "ipython3",
   "version": "3.5.2"
  }
 },
 "nbformat": 4,
 "nbformat_minor": 2
}
