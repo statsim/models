{
 "cells": [
  {
   "cell_type": "code",
   "execution_count": 1,
   "metadata": {},
   "outputs": [
    {
     "data": {
      "text/html": [
       "\n",
       "  <div class=\"iframer-wrapper\" style=\"position: relative; padding-bottom: 550px; padding-top: 25px; height: 0;\">\n",
       "    <iframe src=\"https://statsim.com/app/?m=friedman1&preview=1\" style=\"position: absolute; top: 0; left: 0; width: 100%; height: 100%;\"></iframe>\n",
       "  </div><br>\n",
       "  <a class=\"iframer-link\" href=\"https://statsim.com/app/?m=friedman1&preview=1\" target=\"_blank\" style=\"margin: 10px 0;\">Open in statsim.com</a>\n",
       "  "
      ],
      "text/plain": [
       "<IPython.core.display.HTML object>"
      ]
     },
     "metadata": {},
     "output_type": "display_data"
    }
   ],
   "source": [
    "from iframer import *\n",
    "iframer('https://statsim.com/app/?m=friedman1&preview=1')"
   ]
  },
  {
   "cell_type": "markdown",
   "metadata": {},
   "source": [
    "Friedman-1 model\n",
    "---\n",
    "\n",
    "This dataset was described in the [Multivariate Adaptive Regression Splines](http://www.stat.yale.edu/~lc436/08Spring665/Mars_Friedman_91.pdf) paper by Jerome H. Friedman in 1991. All features $\\mathbf{x}$ are independent uniform random variables taking values from 0 to 1. The output $y$ is calculated with the formula: \n",
    "\n",
    "$$ f(\\mathbf{x}) = 10 sin(\\pi x_1 x_2) + 20 (x_3 - 0.5)^2 + 10 x_4 + 5 x_5 + \\mathcal{N}(0, sigma) $$ "
   ]
  },
  {
   "cell_type": "markdown",
   "metadata": {},
   "source": [
    "By default ten $\\mathbf{x}$ variables are generated, from which only first 5 are used in the formula. That makes this dataset useful for testing feature selection methods too."
   ]
  },
  {
   "cell_type": "markdown",
   "metadata": {},
   "source": [
    "After generating the data click **Download (CSV)** to download the dataset in the CSV format."
   ]
  },
  {
   "cell_type": "markdown",
   "metadata": {},
   "source": [
    "Also availaible in:\n",
    "- [sklearn.datasets.make_friedman1](https://scikit-learn.org/stable/modules/generated/sklearn.datasets.make_friedman1.html) (Python)\n",
    "- [MLBench](https://cran.r-project.org/web/packages/mlbench/index.html) (R)\n",
    "- [StatSim Gen](https://statsim.com/gen/) (Web)"
   ]
  }
 ],
 "metadata": {
  "kernelspec": {
   "display_name": "Python 3",
   "language": "python",
   "name": "python3"
  },
  "language_info": {
   "codemirror_mode": {
    "name": "ipython",
    "version": 3
   },
   "file_extension": ".py",
   "mimetype": "text/x-python",
   "name": "python",
   "nbconvert_exporter": "python",
   "pygments_lexer": "ipython3",
   "version": "3.7.4"
  }
 },
 "nbformat": 4,
 "nbformat_minor": 2
}
